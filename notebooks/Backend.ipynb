{
 "cells": [
  {
   "cell_type": "code",
   "execution_count": 1,
   "metadata": {},
   "outputs": [
    {
     "name": "stderr",
     "output_type": "stream",
     "text": [
      "[nltk_data] Downloading package wordnet to\n",
      "[nltk_data]     C:\\Users\\samue\\AppData\\Roaming\\nltk_data...\n",
      "[nltk_data]   Package wordnet is already up-to-date!\n",
      "[nltk_data] Downloading package punkt_tab to\n",
      "[nltk_data]     C:\\Users\\samue\\AppData\\Roaming\\nltk_data...\n",
      "[nltk_data]   Package punkt_tab is already up-to-date!\n",
      "[nltk_data] Downloading package stopwords to\n",
      "[nltk_data]     C:\\Users\\samue\\AppData\\Roaming\\nltk_data...\n",
      "[nltk_data]   Package stopwords is already up-to-date!\n"
     ]
    },
    {
     "data": {
      "text/plain": [
       "True"
      ]
     },
     "execution_count": 1,
     "metadata": {},
     "output_type": "execute_result"
    }
   ],
   "source": [
    "import json\n",
    "import pandas as pd\n",
    "from nltk.tokenize import word_tokenize\n",
    "from nltk.stem import WordNetLemmatizer\n",
    "from nltk.corpus import stopwords\n",
    "import nltk\n",
    "from sklearn.feature_extraction.text import TfidfVectorizer\n",
    "import pickle\n",
    "\n",
    "# Pobranie zasobów WordNet\n",
    "nltk.download('wordnet')\n",
    "nltk.download('punkt_tab')\n",
    "nltk.download('stopwords')"
   ]
  },
  {
   "cell_type": "code",
   "execution_count": null,
   "metadata": {},
   "outputs": [],
   "source": [
    "\n",
    "df = pd.read_json('tweet_subset_15.json')\n",
    "\n",
    "label = pd.read_csv('label.csv')\n",
    "label['id'] = label['id'].apply(lambda x: str(x).lstrip('u'))\n",
    "\n",
    "df = df[df['lang'] == 'en']\n",
    "df = df[['text', 'author_id']]\n",
    "label['id'] = label['id'].astype('Int64')\n",
    "df = pd.merge(df, label, left_on='author_id', right_on='id', how='left')\n"
   ]
  },
  {
   "cell_type": "code",
   "execution_count": 4,
   "metadata": {},
   "outputs": [],
   "source": [
    "human_indices = df[df['label'] == 'human'].sample(n=(df['label'] == 'bot').sum(), random_state=42).index\n",
    "# Zachowaj tylko te losowe 'human' oraz wszystkie boty (label == 1)\n",
    "df = df.loc[human_indices.union(df[df['label'] == 'bot'].index)].reset_index(drop=True)"
   ]
  },
  {
   "cell_type": "code",
   "execution_count": 5,
   "metadata": {},
   "outputs": [],
   "source": [
    "from tokenizers import Tokenizer\n",
    "from tokenizers.models import BPE\n",
    "from tokenizers.trainers import BpeTrainer\n",
    "from tokenizers.pre_tokenizers import Whitespace\n",
    "\n",
    "# Prepare texts for training\n",
    "texts = df['text'].tolist()\n",
    "\n",
    "# Initialize and train BPE tokenizer\n",
    "tokenizer = Tokenizer(BPE())\n",
    "tokenizer.pre_tokenizer = Whitespace()\n",
    "trainer = BpeTrainer(special_tokens=[\"[UNK]\", \"[PAD]\"], vocab_size=10000)\n",
    "tokenizer.train_from_iterator(texts, trainer)\n",
    "\n",
    "# Tokenize using BPE\n",
    "df['BPE_TOKENS'] = df['text'].apply(lambda x: tokenizer.encode(x).tokens)"
   ]
  },
  {
   "cell_type": "code",
   "execution_count": 7,
   "metadata": {},
   "outputs": [],
   "source": [
    "df['label'] = df['label'].apply(lambda x: 1 if x == 'bot' else 0)"
   ]
  },
  {
   "cell_type": "code",
   "execution_count": 8,
   "metadata": {},
   "outputs": [
    {
     "data": {
      "application/vnd.microsoft.datawrangler.viewer.v0+json": {
       "columns": [
        {
         "name": "index",
         "rawType": "int64",
         "type": "integer"
        },
        {
         "name": "text",
         "rawType": "object",
         "type": "string"
        },
        {
         "name": "author_id",
         "rawType": "int64",
         "type": "integer"
        },
        {
         "name": "id",
         "rawType": "Int64",
         "type": "integer"
        },
        {
         "name": "label",
         "rawType": "int64",
         "type": "integer"
        },
        {
         "name": "BPE_TOKENS",
         "rawType": "object",
         "type": "unknown"
        },
        {
         "name": "FILTERED",
         "rawType": "object",
         "type": "unknown"
        }
       ],
       "ref": "4fdcb512-6e39-48bb-9c5c-ba22ea2374cf",
       "rows": [
        [
         "0",
         "#LVMSpoilers episode 10? Amazing",
         "1304855289208819713",
         "1304855289208819713",
         "0",
         "['#', 'LV', 'MS', 'po', 'il', 'ers', 'episode', '10', '?', 'Amazing']",
         "['#', 'LV', 'MS', 'po', 'il', 'ers', 'episode', '10', '?', 'Amazing']"
        ],
        [
         "1",
         "Just IMAGINE if @TheVulcanSalute chose to share this for her weekly \"it's Thursday\" style post omg",
         "1304855289208819713",
         "1304855289208819713",
         "0",
         "['Just', 'IM', 'AG', 'INE', 'if', '@', 'The', 'V', 'ul', 'can', 'Sal', 'ute', 'cho', 'se', 'to', 'share', 'this', 'for', 'her', 'weekly', '\"', 'it', \"'\", 's', 'Thursday', '\"', 'style', 'post', 'om', 'g']",
         "['IM', 'AG', 'INE', '@', 'V', 'ul', 'Sal', 'ute', 'cho', 'se', 'share', 'weekly', '\"', \"'\", 'Thursday', '\"', 'style', 'post', 'om', 'g']"
        ],
        [
         "2",
         "RT @LaurenWalshArt: The “Matt Mercer Effect” for me has always been watching someone run a game so masterfully that it inspired me to final…",
         "1304855289208819713",
         "1304855289208819713",
         "0",
         "['RT', '@', 'La', 'uren', 'Wal', 'sh', 'Art', ':', 'The', '“', 'Matt', 'Mer', 'cer', 'Effect', '”', 'for', 'me', 'has', 'always', 'been', 'watching', 'someone', 'run', 'a', 'game', 'so', 'master', 'fully', 'that', 'it', 'inspired', 'me', 'to', 'final', '…']",
         "['RT', '@', 'La', 'uren', 'Wal', 'sh', 'Art', ':', '“', 'Matt', 'Mer', 'cer', 'Effect', '”', 'always', 'watching', 'someone', 'run', 'game', 'master', 'fully', 'inspired', 'final', '…']"
        ],
        [
         "3",
         "Fearne you bad bitch #CriticalRoleSpoilers",
         "1304855289208819713",
         "1304855289208819713",
         "0",
         "['F', 'ear', 'ne', 'you', 'bad', 'bit', 'ch', '#', 'Crit', 'ical', 'Ro', 'le', 'S', 'po', 'il', 'ers']",
         "['F', 'ear', 'ne', 'bad', 'bit', 'ch', '#', 'Crit', 'ical', 'Ro', 'le', 'po', 'il', 'ers']"
        ],
        [
         "4",
         "@Thee_MC89 He keeps Clean sheets in all his movies mambala 😂🤣",
         "999238148075991040",
         "999238148075991040",
         "0",
         "['@', 'The', 'e_', 'MC', '89', 'He', 'keeps', 'Cle', 'an', 'she', 'ets', 'in', 'all', 'his', 'mo', 'vies', 'm', 'am', 'bal', 'a', '😂', '🤣']",
         "['@', 'e_', 'MC', '89', 'keeps', 'Cle', 'ets', 'mo', 'vies', 'bal', '😂', '🤣']"
        ],
        [
         "5",
         "@Teambridge263 @Tommy_Le_Roi Someone translate the last part for me I also want to laugh",
         "999238148075991040",
         "999238148075991040",
         "0",
         "['@', 'Team', 'bridge', '26', '3', '@', 'Tom', 'my', '_', 'Le', '_', 'Ro', 'i', 'Someone', 'trans', 'late', 'the', 'last', 'part', 'for', 'me', 'I', 'also', 'want', 'to', 'laugh']",
         "['@', 'Team', 'bridge', '26', '3', '@', 'Tom', '_', 'Le', '_', 'Ro', 'Someone', 'trans', 'late', 'last', 'part', 'also', 'want', 'laugh']"
        ],
        [
         "6",
         "@niza116 Respect 💯",
         "999238148075991040",
         "999238148075991040",
         "0",
         "['@', 'n', 'iz', 'a', '11', '6', 'Res', 'pect', '💯']",
         "['@', 'n', 'iz', '11', '6', 'Res', 'pect', '💯']"
        ],
        [
         "7",
         "Just posted a photo @ Zoom Online https://t.co/DrrpP2Mg8W",
         "221850969",
         "221850969",
         "0",
         "['Just', 'posted', 'a', 'photo', '@', 'Zoom', 'Online', 'https', '://', 't', '.', 'co', '/', 'Dr', 'r', 'p', 'P', '2', 'M', 'g', '8', 'W']",
         "['posted', 'photo', '@', 'Zoom', 'Online', 'https', '://', '.', 'co', '/', 'Dr', 'r', 'p', 'P', '2', 'g', '8', 'W']"
        ],
        [
         "8",
         "Just posted a photo @ Featherstone Center for the Arts https://t.co/lzmJ95rFGa",
         "221850969",
         "221850969",
         "0",
         "['Just', 'posted', 'a', 'photo', '@', 'Fe', 'ather', 'stone', 'Center', 'for', 'the', 'Arts', 'https', '://', 't', '.', 'co', '/', 'l', 'z', 'm', 'J', '95', 'r', 'F', 'Ga']",
         "['posted', 'photo', '@', 'Fe', 'ather', 'stone', 'Center', 'Arts', 'https', '://', '.', 'co', '/', 'l', 'z', 'J', '95', 'r', 'F', 'Ga']"
        ],
        [
         "9",
         "RT @HotspursTurkey: GOL SONNY🔥 #COYS https://t.co/DXc8ejKuWH",
         "2838934563",
         "2838934563",
         "0",
         "['RT', '@', 'Hot', 'sp', 'urs', 'Tur', 'key', ':', 'GO', 'L', 'S', 'ON', 'NY', '🔥', '#', 'CO', 'Y', 'S', 'https', '://', 't', '.', 'co', '/', 'DX', 'c', '8', 'e', 'j', 'Ku', 'WH']",
         "['RT', '@', 'Hot', 'sp', 'urs', 'Tur', 'key', ':', 'GO', 'L', 'NY', '🔥', '#', 'CO', 'https', '://', '.', 'co', '/', 'DX', 'c', '8', 'e', 'j', 'Ku', 'WH']"
        ],
        [
         "10",
         "RT @Arsenal: NEVER. GIVE. UP 👊 https://t.co/pVZCCyrN4J",
         "2838934563",
         "2838934563",
         "0",
         "['RT', '@', 'Ar', 'sen', 'al', ':', 'NE', 'VER', '.', 'GI', 'VE', '.', 'UP', '👊', 'https', '://', 't', '.', 'co', '/', 'p', 'VZ', 'CC', 'yr', 'N4', 'J']",
         "['RT', '@', 'Ar', 'sen', 'al', ':', 'NE', 'VER', '.', 'GI', '.', '👊', 'https', '://', '.', 'co', '/', 'p', 'VZ', 'CC', 'yr', 'N4', 'J']"
        ],
        [
         "11",
         "RT @FabrizioRomano: Anthony Elanga: “I’m always calm. I think that was my first touch as well! I've dreamt of moments like this”, he told B…",
         "2838934563",
         "2838934563",
         "0",
         "['RT', '@', 'F', 'ab', 'ri', 'z', 'io', 'Roman', 'o', ':', 'An', 'thon', 'y', 'El', 'ang', 'a', ':', '“', 'I', '’', 'm', 'always', 'cal', 'm', '.', 'I', 'think', 'that', 'was', 'my', 'first', 'touch', 'as', 'well', '!', 'I', \"'\", 've', 'dream', 't', 'of', 'moments', 'like', 'this', '”', ',', 'he', 'told', 'B', '…']",
         "['RT', '@', 'F', 'ab', 'ri', 'z', 'io', 'Roman', ':', 'thon', 'El', 'ang', ':', '“', '’', 'always', 'cal', '.', 'think', 'first', 'touch', 'well', '!', \"'\", 'dream', 'moments', 'like', '”', ',', 'told', 'B', '…']"
        ],
        [
         "12",
         "@TundeTASH Coding",
         "372682119",
         "372682119",
         "0",
         "['@', 'Tun', 'de', 'T', 'AS', 'H', 'C', 'od', 'ing']",
         "['@', 'Tun', 'de', 'H', 'C', 'od', 'ing']"
        ],
        [
         "13",
         "@JI Nice, fuck Objective-C",
         "1089947697748992000",
         "1089947697748992000",
         "0",
         "['@', 'J', 'I', 'Nice', ',', 'fuck', 'Ob', 'ject', 'ive', '-', 'C']",
         "['@', 'J', 'Nice', ',', 'fuck', 'Ob', 'ject', 'ive', '-', 'C']"
        ],
        [
         "14",
         "Here is something to look forward to: On Monday Jan 11th at 11am PT, I'll be part of an Engadget panel discussing #riscv during virtual #ces2021. I'll post a link once it is available.",
         "20348893",
         "20348893",
         "0",
         "['Here', 'is', 'something', 'to', 'look', 'forward', 'to', ':', 'On', 'Monday', 'Jan', '11', 'th', 'at', '11', 'am', 'PT', ',', 'I', \"'\", 'll', 'be', 'part', 'of', 'an', 'Eng', 'ad', 'get', 'panel', 'discussing', '#', 'ris', 'c', 'v', 'during', 'virtual', '#', 'ces', '2021', '.', 'I', \"'\", 'll', 'post', 'a', 'link', 'once', 'it', 'is', 'available', '.']",
         "['something', 'look', 'forward', ':', 'Monday', 'Jan', '11', 'th', '11', 'PT', ',', \"'\", 'part', 'Eng', 'ad', 'get', 'panel', 'discussing', '#', 'ris', 'c', 'v', 'virtual', '#', 'ces', '2021', '.', \"'\", 'post', 'link', 'available', '.']"
        ],
        [
         "15",
         "A unified memory for #riscv? Yes to that! Check out the proposed #omnixtend protocol for RISC-V architectures. #freememory https://t.co/c9RlKy9tO1",
         "20348893",
         "20348893",
         "0",
         "['A', 'un', 'ified', 'memory', 'for', '#', 'ris', 'c', 'v', '?', 'Yes', 'to', 'that', '!', 'Check', 'out', 'the', 'pro', 'posed', '#', 'om', 'ni', 'xt', 'end', 'protocol', 'for', 'R', 'IS', 'C', '-', 'V', 'architect', 'ures', '.', '#', 'free', 'memory', 'https', '://', 't', '.', 'co', '/', 'c', '9', 'R', 'l', 'Ky', '9', 't', 'O1']",
         "['un', 'ified', 'memory', '#', 'ris', 'c', 'v', '?', 'Yes', '!', 'Check', 'pro', 'posed', '#', 'om', 'ni', 'xt', 'end', 'protocol', 'R', 'C', '-', 'V', 'architect', 'ures', '.', '#', 'free', 'memory', 'https', '://', '.', 'co', '/', 'c', '9', 'R', 'l', 'Ky', '9', 'O1']"
        ],
        [
         "16",
         "The #storagesolutions meetup group has one last event on Dec 2nd. Hear from industry leaders Intel, Micron, Samsung and Western Digital.  #zns https://t.co/cM34Vht8Yh",
         "20348893",
         "20348893",
         "0",
         "['The', '#', 'stor', 'ages', 'ol', 'utions', 'meet', 'up', 'group', 'has', 'one', 'last', 'event', 'on', 'Dec', '2nd', '.', 'Hear', 'from', 'industry', 'leaders', 'In', 'tel', ',', 'Mic', 'ron', ',', 'Sam', 'sun', 'g', 'and', 'Western', 'Digital', '.', '#', 'z', 'ns', 'https', '://', 't', '.', 'co', '/', 'c', 'M', '34', 'V', 'ht', '8Y', 'h']",
         "['#', 'stor', 'ages', 'ol', 'utions', 'meet', 'group', 'one', 'last', 'event', 'Dec', '2nd', '.', 'Hear', 'industry', 'leaders', 'tel', ',', 'Mic', 'ron', ',', 'Sam', 'sun', 'g', 'Western', 'Digital', '.', '#', 'z', 'ns', 'https', '://', '.', 'co', '/', 'c', '34', 'V', 'ht', '8Y', 'h']"
        ],
        [
         "17",
         "@W0NIE__ jay handsome",
         "1418875748962680842",
         "1418875748962680842",
         "0",
         "['@', 'W', '0', 'NI', 'E', '__', 'jay', 'hand', 'some']",
         "['@', 'W', '0', 'NI', 'E', '__', 'jay', 'hand']"
        ],
        [
         "18",
         "RT @sjlorbit: why does engene stan twt feels lonelier as days pass by. i see a lot of engenes are leaving one by one... :(",
         "1418875748962680842",
         "1418875748962680842",
         "0",
         "['RT', '@', 's', 'j', 'lor', 'bit', ':', 'why', 'does', 'en', 'gen', 'e', 'st', 'an', 'tw', 't', 'feels', 'lon', 'el', 'ier', 'as', 'days', 'pass', 'by', '.', 'i', 'see', 'a', 'lot', 'of', 'en', 'gen', 'es', 'are', 'leaving', 'one', 'by', 'one', '...', ':', '(']",
         "['RT', '@', 'j', 'lor', 'bit', ':', 'en', 'gen', 'e', 'st', 'tw', 'feels', 'lon', 'el', 'ier', 'days', 'pass', '.', 'see', 'lot', 'en', 'gen', 'es', 'leaving', 'one', 'one', '...', ':', '(']"
        ],
        [
         "19",
         "RT @hoonflict: ongoing twitter polls for enhypen :\n\ndo not ignore, rt to spread ‼️",
         "1418875748962680842",
         "1418875748962680842",
         "0",
         "['RT', '@', 'ho', 'on', 'flict', ':', 'ongoing', 'twitter', 'pol', 'ls', 'for', 'en', 'hy', 'pen', ':', 'do', 'not', 'igno', 're', ',', 'rt', 'to', 'spread', '‼', '️']",
         "['RT', '@', 'ho', 'flict', ':', 'ongoing', 'twitter', 'pol', 'ls', 'en', 'hy', 'pen', ':', 'igno', ',', 'rt', 'spread', '‼', '️']"
        ],
        [
         "20",
         "@IgorBrigadir The anti-nuclear crowd in the US/Europe was/is so shortsighted. Yes, the byproducts are long lived and toxic, but they’re containable and preferable to — waves arms — environmental collapse. The hippie/counterculture that this attitude came from looks worse with each passing year",
         "763596433534496768",
         "763596433534496768",
         "0",
         "['@', 'I', 'gor', 'Br', 'ig', 'ad', 'ir', 'The', 'anti', '-', 'nuclear', 'crowd', 'in', 'the', 'US', '/', 'Europe', 'was', '/', 'is', 'so', 'short', 's', 'ighted', '.', 'Yes', ',', 'the', 'by', 'products', 'are', 'long', 'li', 'ved', 'and', 'to', 'xic', ',', 'but', 'they', '’', 're', 'contain', 'able', 'and', 'prefer', 'able', 'to', '—', 'w', 'aves', 'arms', '—', 'environ', 'mental', 'coll', 'a', 'pse', '.', 'The', 'hip', 'pie', '/', 'counter', 'culture', 'that', 'this', 'att', 'itude', 'came', 'from', 'looks', 'worse', 'with', 'each', 'pass', 'ing', 'year']",
         "['@', 'gor', 'Br', 'ig', 'ad', 'ir', 'anti', '-', 'nuclear', 'crowd', 'US', '/', 'Europe', '/', 'short', 'ighted', '.', 'Yes', ',', 'products', 'long', 'li', 'ved', 'xic', ',', '’', 'contain', 'able', 'prefer', 'able', '—', 'w', 'aves', 'arms', '—', 'environ', 'mental', 'coll', 'pse', '.', 'hip', 'pie', '/', 'counter', 'culture', 'att', 'itude', 'came', 'looks', 'worse', 'pass', 'ing', 'year']"
        ],
        [
         "21",
         "@_alialkhatib Well, we all know which of these spellings is the correct one, and it’s not the one with the superfluous “u” sprinkled throughout. 😀😜 j/k",
         "763596433534496768",
         "763596433534496768",
         "0",
         "['@', '_', 'al', 'ial', 'kh', 'at', 'ib', 'Well', ',', 'we', 'all', 'know', 'which', 'of', 'these', 'sp', 'ell', 'ings', 'is', 'the', 'correct', 'one', ',', 'and', 'it', '’', 's', 'not', 'the', 'one', 'with', 'the', 'super', 'flu', 'ous', '“', 'u', '”', 's', 'pr', 'ink', 'led', 'throughout', '.', '😀', '😜', 'j', '/', 'k']",
         "['@', '_', 'al', 'ial', 'kh', 'ib', 'Well', ',', 'know', 'sp', 'ell', 'ings', 'correct', 'one', ',', '’', 'one', 'super', 'flu', 'ous', '“', 'u', '”', 'pr', 'ink', 'led', 'throughout', '.', '😀', '😜', 'j', '/', 'k']"
        ],
        [
         "22",
         "@Randy_Au @CMastication Expensive is the key word. I hate liquor, it all tastes like poison to me, but that bottle wasn’t cheap!",
         "763596433534496768",
         "763596433534496768",
         "0",
         "['@', 'R', 'and', 'y_', 'Au', '@', 'CM', 'astic', 'ation', 'Ex', 'p', 'ensive', 'is', 'the', 'key', 'word', '.', 'I', 'hate', 'li', 'qu', 'or', ',', 'it', 'all', 't', 'ast', 'es', 'like', 'po', 'ison', 'to', 'me', ',', 'but', 'that', 'bot', 'tle', 'wasn', '’', 't', 'che', 'ap', '!']",
         "['@', 'R', 'y_', 'Au', '@', 'CM', 'astic', 'ation', 'Ex', 'p', 'ensive', 'key', 'word', '.', 'hate', 'li', 'qu', ',', 'ast', 'es', 'like', 'po', 'ison', ',', 'bot', 'tle', '’', 'che', 'ap', '!']"
        ],
        [
         "23",
         "@davidbrear Come now: Apple Card.",
         "763596433534496768",
         "763596433534496768",
         "0",
         "['@', 'david', 'bre', 'ar', 'Come', 'now', ':', 'Apple', 'Card', '.']",
         "['@', 'david', 'bre', 'ar', 'Come', ':', 'Apple', 'Card', '.']"
        ],
        [
         "24",
         "@alexkyllo This would be so welcome. I ❤️ data Twitter but way too much “branded content” these days.",
         "763596433534496768",
         "763596433534496768",
         "0",
         "['@', 'alex', 'ky', 'l', 'lo', 'This', 'would', 'be', 'so', 'welcome', '.', 'I', '❤', '️', 'data', 'Twitter', 'but', 'way', 'too', 'much', '“', 'brand', 'ed', 'content', '”', 'these', 'days', '.']",
         "['@', 'alex', 'ky', 'l', 'lo', 'would', 'welcome', '.', '❤', '️', 'data', 'Twitter', 'way', 'much', '“', 'brand', 'ed', 'content', '”', 'days', '.']"
        ],
        [
         "25",
         "@CMastication Wow. Yikes doesn’t fully elucidate the number of red flags popping up in my head at the moment.",
         "763596433534496768",
         "763596433534496768",
         "0",
         "['@', 'CM', 'astic', 'ation', 'Wow', '.', 'Y', 'ikes', 'doesn', '’', 't', 'fully', 'el', 'uc', 'id', 'ate', 'the', 'number', 'of', 'red', 'flag', 's', 'pop', 'ping', 'up', 'in', 'my', 'head', 'at', 'the', 'moment', '.']",
         "['@', 'CM', 'astic', 'ation', 'Wow', '.', 'ikes', '’', 'fully', 'el', 'uc', 'id', 'ate', 'number', 'red', 'flag', 'pop', 'ping', 'head', 'moment', '.']"
        ],
        [
         "26",
         "@rasbt Wowz",
         "763596433534496768",
         "763596433534496768",
         "0",
         "['@', 'ras', 'bt', 'Wow', 'z']",
         "['@', 'ras', 'bt', 'Wow', 'z']"
        ],
        [
         "27",
         "Coming soon NEW holiday invitations from SanLori! http://t.co/rQIZQYv3mg http://t.co/kfXGOZWC6S",
         "70717406",
         "70717406",
         "0",
         "['Com', 'ing', 'soon', 'NEW', 'holiday', 'inv', 'it', 'ations', 'from', 'San', 'L', 'ori', '!', 'http', '://', 't', '.', 'co', '/', 'r', 'Q', 'I', 'ZQ', 'Y', 'v', '3', 'mg', 'http', '://', 't', '.', 'co', '/', 'k', 'fX', 'GO', 'Z', 'W', 'C', '6', 'S']",
         "['Com', 'ing', 'soon', 'NEW', 'holiday', 'inv', 'ations', 'San', 'L', 'ori', '!', 'http', '://', '.', 'co', '/', 'r', 'Q', 'ZQ', 'v', '3', 'mg', 'http', '://', '.', 'co', '/', 'k', 'fX', 'GO', 'Z', 'W', 'C', '6']"
        ],
        [
         "28",
         "New SanLori \"Mustache Bash\" fill-in with matching label!\nhttp://t.co/G0sulkVD8o http://t.co/U1PR4pp9kq",
         "70717406",
         "70717406",
         "0",
         "['New', 'San', 'L', 'ori', '\"', 'M', 'ust', 'ach', 'e', 'B', 'ash', '\"', 'fill', '-', 'in', 'with', 'match', 'ing', 'lab', 'el', '!', 'http', '://', 't', '.', 'co', '/', 'G', '0s', 'ul', 'k', 'VD', '8', 'o', 'http', '://', 't', '.', 'co', '/', 'U1', 'PR', '4', 'pp', '9k', 'q']",
         "['New', 'San', 'L', 'ori', '\"', 'ust', 'ach', 'e', 'B', 'ash', '\"', 'fill', '-', 'match', 'ing', 'lab', 'el', '!', 'http', '://', '.', 'co', '/', 'G', '0s', 'ul', 'k', 'VD', '8', 'http', '://', '.', 'co', '/', 'U1', 'PR', '4', 'pp', '9k', 'q']"
        ],
        [
         "29",
         "Guys don't 4get 2 watch INDIA'S GOT TALENT KHOJ 2 at 9pm on COLORS.",
         "62524415",
         "62524415",
         "0",
         "['Gu', 'ys', 'don', \"'\", 't', '4', 'get', '2', 'watch', 'IND', 'IA', \"'\", 'S', 'G', 'OT', 'T', 'AL', 'ENT', 'K', 'HO', 'J', '2', 'at', '9', 'pm', 'on', 'CO', 'L', 'OR', 'S', '.']",
         "['Gu', 'ys', \"'\", '4', 'get', '2', 'watch', 'IND', 'IA', \"'\", 'G', 'OT', 'AL', 'ENT', 'K', 'HO', 'J', '2', '9', 'pm', 'CO', 'L', '.']"
        ],
        [
         "30",
         "@MissDignity ya agreed y sony t.v goin crazy..",
         "62524415",
         "62524415",
         "0",
         "['@', 'Miss', 'D', 'ign', 'ity', 'ya', 'agre', 'ed', 'y', 'son', 'y', 't', '.', 'v', 'go', 'in', 'crazy', '..']",
         "['@', 'Miss', 'ign', 'ity', 'ya', 'agre', 'ed', 'son', '.', 'v', 'go', 'crazy', '..']"
        ],
        [
         "31",
         "@h_i_g_s_c_h @derspiegel This is so cool! Such a neat and creative way to intuitively visualize this.",
         "1181610909053140993",
         "1181610909053140993",
         "0",
         "['@', 'h', '_', 'i_', 'g', '_s', '_', 'c', '_', 'h', '@', 'ders', 'pie', 'g', 'el', 'This', 'is', 'so', 'cool', '!', 'Such', 'a', 'ne', 'at', 'and', 'creative', 'way', 'to', 'int', 'uit', 'ively', 'visual', 'ize', 'this', '.']",
         "['@', 'h', '_', 'i_', 'g', '_s', '_', 'c', '_', 'h', '@', 'ders', 'pie', 'g', 'el', 'cool', '!', 'ne', 'creative', 'way', 'int', 'uit', 'ively', 'visual', 'ize', '.']"
        ],
        [
         "32",
         "Tune in right now to hear the brilliant @jaredlholt on domestic extremism post Jan. 6: https://t.co/yNyU5UnQKR",
         "1181610909053140993",
         "1181610909053140993",
         "0",
         "['Tune', 'in', 'right', 'now', 'to', 'hear', 'the', 'brilliant', '@', 'j', 'ared', 'l', 'hol', 't', 'on', 'do', 'me', 'stic', 'extrem', 'ism', 'post', 'Jan', '.', '6', ':', 'https', '://', 't', '.', 'co', '/', 'y', 'Ny', 'U', '5', 'Un', 'Q', 'KR']",
         "['Tune', 'right', 'hear', 'brilliant', '@', 'j', 'ared', 'l', 'hol', 'stic', 'extrem', 'ism', 'post', 'Jan', '.', '6', ':', 'https', '://', '.', 'co', '/', 'Ny', 'U', '5', 'Un', 'Q', 'KR']"
        ],
        [
         "33",
         "@cluzniak @debatemathpod it's not this easy. I teach at an arts school. A decent portion of my S are convinced they'll never use math &amp; are accustomed to being told what to do. Takes educating teachers how to pivot. How to relinquish control and facilitate learning (vs transmitting knowledge).",
         "969665431274483712",
         "969665431274483712",
         "0",
         "['@', 'cl', 'u', 'z', 'nia', 'k', '@', 'debate', 'math', 'pod', 'it', \"'\", 's', 'not', 'this', 'easy', '.', 'I', 'teach', 'at', 'an', 'arts', 'school', '.', 'A', 'de', 'cent', 'port', 'ion', 'of', 'my', 'S', 'are', 'con', 'vin', 'ced', 'they', \"'\", 'll', 'never', 'use', 'math', '&', 'amp', ';', 'are', 'acc', 'ustom', 'ed', 'to', 'being', 'told', 'what', 'to', 'do', '.', 'T', 'akes', 'educ', 'ating', 'teachers', 'how', 'to', 'p', 'iv', 'ot', '.', 'How', 'to', 'rel', 'in', 'qu', 'ish', 'control', 'and', 'fac', 'ilit', 'ate', 'learning', '(', 'vs', 'trans', 'mit', 'ting', 'knowledge', ').']",
         "['@', 'cl', 'u', 'z', 'nia', 'k', '@', 'debate', 'math', 'pod', \"'\", 'easy', '.', 'teach', 'arts', 'school', '.', 'de', 'cent', 'port', 'ion', 'con', 'vin', 'ced', \"'\", 'never', 'use', 'math', '&', 'amp', ';', 'acc', 'ustom', 'ed', 'told', '.', 'akes', 'educ', 'ating', 'teachers', 'p', 'iv', 'ot', '.', 'rel', 'qu', 'ish', 'control', 'fac', 'ilit', 'ate', 'learning', '(', 'vs', 'trans', 'mit', 'ting', 'knowledge', ').']"
        ],
        [
         "34",
         "RT @vonderleyen: We are stepping up our support for Ukraine.\n\nFor the first time, the EU will finance the purchase and delivery of weapons…",
         "888459915232235524",
         "888459915232235524",
         "0",
         "['RT', '@', 'v', 'onder', 'ley', 'en', ':', 'We', 'are', 'step', 'ping', 'up', 'our', 'support', 'for', 'Ukraine', '.', 'For', 'the', 'first', 'time', ',', 'the', 'EU', 'will', 'finance', 'the', 'purch', 'ase', 'and', 'delivery', 'of', 'weapons', '…']",
         "['RT', '@', 'v', 'onder', 'ley', 'en', ':', 'step', 'ping', 'support', 'Ukraine', '.', 'first', 'time', ',', 'EU', 'finance', 'purch', 'ase', 'delivery', 'weapons', '…']"
        ],
        [
         "35",
         "\"Don't let a mad world tell you that success is anything other than a successful present moment.”\nEckhart Tolle https://t.co/kbS8epYDxr",
         "1008613644211548161",
         "1008613644211548161",
         "0",
         "['\"', 'Don', \"'\", 't', 'let', 'a', 'mad', 'world', 'tell', 'you', 'that', 'success', 'is', 'anything', 'other', 'than', 'a', 'successful', 'present', 'moment', '.”', 'E', 'ck', 'h', 'art', 'T', 'ol', 'le', 'https', '://', 't', '.', 'co', '/', 'k', 'b', 'S', '8', 'ep', 'Y', 'Dx', 'r']",
         "['\"', \"'\", 'let', 'mad', 'world', 'tell', 'success', 'anything', 'successful', 'present', 'moment', '.”', 'E', 'ck', 'h', 'art', 'ol', 'le', 'https', '://', '.', 'co', '/', 'k', 'b', '8', 'ep', 'Dx', 'r']"
        ],
        [
         "36",
         "Senior Journalist Bandula Padmakumara has passed away. #Lka https://t.co/g20Dl34fbp",
         "599136384",
         "599136384",
         "0",
         "['Senior', 'Journal', 'ist', 'B', 'and', 'ula', 'P', 'ad', 'ma', 'k', 'um', 'ara', 'has', 'passed', 'away', '.', '#', 'L', 'ka', 'https', '://', 't', '.', 'co', '/', 'g', '20', 'Dl', '34', 'fb', 'p']",
         "['Senior', 'Journal', 'ist', 'B', 'ula', 'P', 'ad', 'k', 'um', 'ara', 'passed', 'away', '.', '#', 'L', 'ka', 'https', '://', '.', 'co', '/', 'g', '20', 'Dl', '34', 'fb', 'p']"
        ],
        [
         "37",
         "Sri Lankans at the MCG. #Lka https://t.co/VVzdGKrOje",
         "599136384",
         "599136384",
         "0",
         "['Sri', 'L', 'ank', 'ans', 'at', 'the', 'MC', 'G', '.', '#', 'L', 'ka', 'https', '://', 't', '.', 'co', '/', 'V', 'Vz', 'd', 'G', 'Kr', 'O', 'je']",
         "['Sri', 'L', 'ank', 'ans', 'MC', 'G', '.', '#', 'L', 'ka', 'https', '://', '.', 'co', '/', 'V', 'Vz', 'G', 'Kr', 'je']"
        ],
        [
         "38",
         "Leader of the 43 Brigade Patali Champika Ranawaka and members of its Executive Council called on the Indian High Commissioner to Sri Lanka Gopal Bagle and present to him the program of the 43 Division to build the country. #Lka https://t.co/4SrzZQb8qe",
         "599136384",
         "599136384",
         "0",
         "['Leader', 'of', 'the', '43', 'Br', 'ig', 'ade', 'Pat', 'ali', 'Ch', 'amp', 'ika', 'Ran', 'aw', 'aka', 'and', 'members', 'of', 'its', 'Executive', 'Council', 'called', 'on', 'the', 'Indian', 'High', 'Commission', 'er', 'to', 'Sri', 'L', 'ank', 'a', 'G', 'op', 'al', 'B', 'ag', 'le', 'and', 'present', 'to', 'him', 'the', 'program', 'of', 'the', '43', 'Div', 'ision', 'to', 'build', 'the', 'country', '.', '#', 'L', 'ka', 'https', '://', 't', '.', 'co', '/', '4', 'Sr', 'z', 'ZQ', 'b', '8', 'qe']",
         "['Leader', '43', 'Br', 'ig', 'ade', 'Pat', 'ali', 'Ch', 'amp', 'ika', 'Ran', 'aw', 'aka', 'members', 'Executive', 'Council', 'called', 'Indian', 'High', 'Commission', 'er', 'Sri', 'L', 'ank', 'G', 'op', 'al', 'B', 'ag', 'le', 'present', 'program', '43', 'Div', 'ision', 'build', 'country', '.', '#', 'L', 'ka', 'https', '://', '.', 'co', '/', '4', 'Sr', 'z', 'ZQ', 'b', '8', 'qe']"
        ],
        [
         "39",
         "The Made Smarter Technology Accelerator is a national programme, set to shape the technology innovation for the manufacturing sector.\n\nDelivered by @DigiCatapult, you can find out more about the programme at https://t.co/WSaKPtQvFU\n\n👉https://t.co/bU0nUNbH8q https://t.co/XVn1hHg061",
         "923977592344104961",
         "923977592344104961",
         "0",
         "['The', 'Made', 'S', 'mar', 'ter', 'Technology', 'Accel', 'er', 'ator', 'is', 'a', 'national', 'programme', ',', 'set', 'to', 'shape', 'the', 'technology', 'innovation', 'for', 'the', 'manufact', 'uring', 'sector', '.', 'Del', 'iver', 'ed', 'by', '@', 'Dig', 'i', 'Cat', 'ap', 'ult', ',', 'you', 'can', 'find', 'out', 'more', 'about', 'the', 'programme', 'at', 'https', '://', 't', '.', 'co', '/', 'W', 'Sa', 'KP', 't', 'Q', 'v', 'FU', '👉', 'https', '://', 't', '.', 'co', '/', 'b', 'U', '0n', 'UN', 'b', 'H', '8', 'q', 'https', '://', 't', '.', 'co', '/', 'X', 'Vn', '1', 'h', 'H', 'g', '06', '1']",
         "['Made', 'mar', 'ter', 'Technology', 'Accel', 'er', 'ator', 'national', 'programme', ',', 'set', 'shape', 'technology', 'innovation', 'manufact', 'uring', 'sector', '.', 'Del', 'iver', 'ed', '@', 'Dig', 'Cat', 'ap', 'ult', ',', 'find', 'programme', 'https', '://', '.', 'co', '/', 'W', 'Sa', 'KP', 'Q', 'v', 'FU', '👉', 'https', '://', '.', 'co', '/', 'b', 'U', '0n', 'UN', 'b', 'H', '8', 'q', 'https', '://', '.', 'co', '/', 'X', 'Vn', '1', 'h', 'H', 'g', '06', '1']"
        ],
        [
         "40",
         "As Valentine’s Day approaches, many customers are demanding more sustainable products. \n\nFrom textile manufacturers such as Derek Rose to companies such as Bloom-in-Box, have you considered opting to buy some sustainable gifts for Valentine’s Day?\n\nLet us know in the comments! https://t.co/rKNc8E4Rhd",
         "923977592344104961",
         "923977592344104961",
         "0",
         "['As', 'Valentine', '’', 's', 'Day', 'approach', 'es', ',', 'many', 'customers', 'are', 'demand', 'ing', 'more', 'sustainable', 'products', '.', 'From', 'tex', 'ti', 'le', 'manufact', 'ur', 'ers', 'such', 'as', 'D', 'ere', 'k', 'Rose', 'to', 'companies', 'such', 'as', 'Bloom', '-', 'in', '-', 'Box', ',', 'have', 'you', 'considered', 'op', 'ting', 'to', 'buy', 'some', 'sustainable', 'g', 'ifts', 'for', 'Valentine', '’', 's', 'Day', '?', 'Let', 'us', 'know', 'in', 'the', 'comments', '!', 'https', '://', 't', '.', 'co', '/', 'r', 'K', 'Nc', '8', 'E', '4', 'Rh', 'd']",
         "['Valentine', '’', 'Day', 'approach', 'es', ',', 'many', 'customers', 'demand', 'ing', 'sustainable', 'products', '.', 'tex', 'ti', 'le', 'manufact', 'ur', 'ers', 'ere', 'k', 'Rose', 'companies', 'Bloom', '-', '-', 'Box', ',', 'considered', 'op', 'ting', 'buy', 'sustainable', 'g', 'ifts', 'Valentine', '’', 'Day', '?', 'Let', 'us', 'know', 'comments', '!', 'https', '://', '.', 'co', '/', 'r', 'K', 'Nc', '8', 'E', '4', 'Rh']"
        ],
        [
         "41",
         "RT @Kevin2600: These are what I think are must-read books for Hardware hackers. What do you think? :) https://t.co/ZF17aeW0pW",
         "221777661",
         "221777661",
         "0",
         "['RT', '@', 'Kevin', '26', '00', ':', 'These', 'are', 'what', 'I', 'think', 'are', 'must', '-', 'read', 'books', 'for', 'Hard', 'ware', 'hack', 'ers', '.', 'What', 'do', 'you', 'think', '?', ':)', 'https', '://', 't', '.', 'co', '/', 'Z', 'F', '17', 'ae', 'W', '0', 'p', 'W']",
         "['RT', '@', 'Kevin', '26', '00', ':', 'think', 'must', '-', 'read', 'books', 'Hard', 'ware', 'hack', 'ers', '.', 'think', '?', ':)', 'https', '://', '.', 'co', '/', 'Z', 'F', '17', 'ae', 'W', '0', 'p', 'W']"
        ],
        [
         "42",
         "RT @ProfFeynman: Don't be impressed by money, followers, degrees, and titles. \nBe impressed by kindness, integrity, humility, and generosit…",
         "221777661",
         "221777661",
         "0",
         "['RT', '@', 'Prof', 'Fe', 'yn', 'man', ':', 'Don', \"'\", 't', 'be', 'impress', 'ed', 'by', 'money', ',', 'followers', ',', 'de', 'gre', 'es', ',', 'and', 'tit', 'les', '.', 'Be', 'impress', 'ed', 'by', 'kind', 'ness', ',', 'integr', 'ity', ',', 'hum', 'ility', ',', 'and', 'gener', 'os', 'it', '…']",
         "['RT', '@', 'Prof', 'Fe', 'yn', 'man', ':', \"'\", 'impress', 'ed', 'money', ',', 'followers', ',', 'de', 'gre', 'es', ',', 'tit', 'les', '.', 'impress', 'ed', 'kind', 'ness', ',', 'integr', 'ity', ',', 'hum', 'ility', ',', 'gener', 'os', '…']"
        ],
        [
         "43",
         "RT @itsmeriya123: Faith and devotion\n\nhttps://t.co/L3dJl962qT https://t.co/azH2iBCIOb",
         "975359189852684289",
         "975359189852684289",
         "0",
         "['RT', '@', 'its', 'mer', 'i', 'ya', '12', '3', ':', 'Fa', 'ith', 'and', 'dev', 'ot', 'ion', 'https', '://', 't', '.', 'co', '/', 'L', '3d', 'Jl', '9', '62', 'q', 'T', 'https', '://', 't', '.', 'co', '/', 'az', 'H2', 'i', 'BC', 'I', 'Ob']",
         "['RT', '@', 'mer', 'ya', '12', '3', ':', 'Fa', 'ith', 'dev', 'ot', 'ion', 'https', '://', '.', 'co', '/', 'L', '3d', 'Jl', '9', '62', 'q', 'https', '://', '.', 'co', '/', 'az', 'H2', 'BC', 'Ob']"
        ],
        [
         "44",
         "RT @NASA: Moongazers unite! The longest partial lunar eclipse of this century will occur overnight, peaking early Nov. 19 at 4:03am ET (09:…",
         "62515016",
         "62515016",
         "0",
         "['RT', '@', 'NASA', ':', 'Mo', 'ong', 'az', 'ers', 'un', 'ite', '!', 'The', 'lon', 'gest', 'part', 'ial', 'l', 'un', 'ar', 'e', 'cli', 'pse', 'of', 'this', 'century', 'will', 'oc', 'cur', 'over', 'night', ',', 'pe', 'aking', 'early', 'Nov', '.', '19', 'at', '4', ':', '03', 'am', 'ET', '(', '09', ':…']",
         "['RT', '@', 'NASA', ':', 'Mo', 'ong', 'az', 'ers', 'un', 'ite', '!', 'lon', 'gest', 'part', 'ial', 'l', 'un', 'ar', 'e', 'cli', 'pse', 'century', 'oc', 'cur', 'night', ',', 'pe', 'aking', 'early', 'Nov', '.', '19', '4', ':', '03', 'ET', '(', '09', ':…']"
        ],
        [
         "45",
         "@DmLaCourse 😍 figure 2 is a winner!",
         "62515016",
         "62515016",
         "0",
         "['@', 'Dm', 'La', 'Cour', 'se', '😍', 'figure', '2', 'is', 'a', 'winner', '!']",
         "['@', 'Dm', 'La', 'Cour', 'se', '😍', 'figure', '2', 'winner', '!']"
        ],
        [
         "46",
         "Number of casualties confirmed: 2 civilians killed, 6 wounded.",
         "1208930908251680773",
         "1208930908251680773",
         "0",
         "['Num', 'ber', 'of', 'cas', 'ual', 'ties', 'confirmed', ':', '2', 'civilians', 'killed', ',', '6', 'w', 'ound', 'ed', '.']",
         "['Num', 'ber', 'cas', 'ual', 'ties', 'confirmed', ':', '2', 'civilians', 'killed', ',', '6', 'w', 'ound', 'ed', '.']"
        ],
        [
         "47",
         "Collaborate with other Canva users all over the globe and enjoy massive benefits.\n\nLearn,\nCollaorate,\nNetwork.\n\nSend a DM to be added https://t.co/tVKAUzhjFD",
         "2906313773",
         "2906313773",
         "1",
         "['Col', 'labor', 'ate', 'with', 'other', 'Can', 'va', 'users', 'all', 'over', 'the', 'glo', 'be', 'and', 'enjoy', 'massive', 'benefits', '.', 'Learn', ',', 'Col', 'la', 'or', 'ate', ',', 'Network', '.', 'S', 'end', 'a', 'DM', 'to', 'be', 'added', 'https', '://', 't', '.', 'co', '/', 't', 'V', 'K', 'AU', 'zh', 'j', 'FD']",
         "['Col', 'labor', 'ate', 'va', 'users', 'glo', 'enjoy', 'massive', 'benefits', '.', 'Learn', ',', 'Col', 'la', 'ate', ',', 'Network', '.', 'end', 'DM', 'added', 'https', '://', '.', 'co', '/', 'V', 'K', 'AU', 'zh', 'j', 'FD']"
        ],
        [
         "48",
         "Where is #sowore in all of this?\n\n#EndSARS\n#EndSWAT\n#EndPoliceHarassment \n#EndPoliceBrutalitynow",
         "2906313773",
         "2906313773",
         "1",
         "['Where', 'is', '#', 's', 'ow', 'ore', 'in', 'all', 'of', 'this', '?', '#', 'End', 'S', 'ARS', '#', 'End', 'SW', 'AT', '#', 'End', 'Police', 'Har', 'ass', 'ment', '#', 'End', 'Police', 'Br', 'ut', 'ality', 'now']",
         "['#', 'ow', 'ore', '?', '#', 'End', 'ARS', '#', 'End', 'SW', '#', 'End', 'Police', 'Har', 'ass', 'ment', '#', 'End', 'Police', 'Br', 'ut', 'ality']"
        ],
        [
         "49",
         "@GovWike Yeah. They really enforced it",
         "2906313773",
         "2906313773",
         "1",
         "['@', 'Gov', 'Wi', 'ke', 'Yeah', '.', 'They', 'really', 'en', 'forced', 'it']",
         "['@', 'Gov', 'Wi', 'ke', 'Yeah', '.', 'really', 'en', 'forced']"
        ]
       ],
       "shape": {
        "columns": 6,
        "rows": 117270
       }
      },
      "text/html": [
       "<div>\n",
       "<style scoped>\n",
       "    .dataframe tbody tr th:only-of-type {\n",
       "        vertical-align: middle;\n",
       "    }\n",
       "\n",
       "    .dataframe tbody tr th {\n",
       "        vertical-align: top;\n",
       "    }\n",
       "\n",
       "    .dataframe thead th {\n",
       "        text-align: right;\n",
       "    }\n",
       "</style>\n",
       "<table border=\"1\" class=\"dataframe\">\n",
       "  <thead>\n",
       "    <tr style=\"text-align: right;\">\n",
       "      <th></th>\n",
       "      <th>text</th>\n",
       "      <th>author_id</th>\n",
       "      <th>id</th>\n",
       "      <th>label</th>\n",
       "      <th>BPE_TOKENS</th>\n",
       "      <th>FILTERED</th>\n",
       "    </tr>\n",
       "  </thead>\n",
       "  <tbody>\n",
       "    <tr>\n",
       "      <th>0</th>\n",
       "      <td>#LVMSpoilers episode 10? Amazing</td>\n",
       "      <td>1304855289208819713</td>\n",
       "      <td>1304855289208819713</td>\n",
       "      <td>0</td>\n",
       "      <td>[#, LV, MS, po, il, ers, episode, 10, ?, Amazing]</td>\n",
       "      <td>[#, LV, MS, po, il, ers, episode, 10, ?, Amazing]</td>\n",
       "    </tr>\n",
       "    <tr>\n",
       "      <th>1</th>\n",
       "      <td>Just IMAGINE if @TheVulcanSalute chose to shar...</td>\n",
       "      <td>1304855289208819713</td>\n",
       "      <td>1304855289208819713</td>\n",
       "      <td>0</td>\n",
       "      <td>[Just, IM, AG, INE, if, @, The, V, ul, can, Sa...</td>\n",
       "      <td>[IM, AG, INE, @, V, ul, Sal, ute, cho, se, sha...</td>\n",
       "    </tr>\n",
       "    <tr>\n",
       "      <th>2</th>\n",
       "      <td>RT @LaurenWalshArt: The “Matt Mercer Effect” f...</td>\n",
       "      <td>1304855289208819713</td>\n",
       "      <td>1304855289208819713</td>\n",
       "      <td>0</td>\n",
       "      <td>[RT, @, La, uren, Wal, sh, Art, :, The, “, Mat...</td>\n",
       "      <td>[RT, @, La, uren, Wal, sh, Art, :, “, Matt, Me...</td>\n",
       "    </tr>\n",
       "    <tr>\n",
       "      <th>3</th>\n",
       "      <td>Fearne you bad bitch #CriticalRoleSpoilers</td>\n",
       "      <td>1304855289208819713</td>\n",
       "      <td>1304855289208819713</td>\n",
       "      <td>0</td>\n",
       "      <td>[F, ear, ne, you, bad, bit, ch, #, Crit, ical,...</td>\n",
       "      <td>[F, ear, ne, bad, bit, ch, #, Crit, ical, Ro, ...</td>\n",
       "    </tr>\n",
       "    <tr>\n",
       "      <th>4</th>\n",
       "      <td>@Thee_MC89 He keeps Clean sheets in all his mo...</td>\n",
       "      <td>999238148075991040</td>\n",
       "      <td>999238148075991040</td>\n",
       "      <td>0</td>\n",
       "      <td>[@, The, e_, MC, 89, He, keeps, Cle, an, she, ...</td>\n",
       "      <td>[@, e_, MC, 89, keeps, Cle, ets, mo, vies, bal...</td>\n",
       "    </tr>\n",
       "    <tr>\n",
       "      <th>...</th>\n",
       "      <td>...</td>\n",
       "      <td>...</td>\n",
       "      <td>...</td>\n",
       "      <td>...</td>\n",
       "      <td>...</td>\n",
       "      <td>...</td>\n",
       "    </tr>\n",
       "    <tr>\n",
       "      <th>117265</th>\n",
       "      <td>Here's my #AcademicChatter: I have some dept. ...</td>\n",
       "      <td>16298298</td>\n",
       "      <td>16298298</td>\n",
       "      <td>0</td>\n",
       "      <td>[Here, ', s, my, #, Academic, Ch, atter, :, I,...</td>\n",
       "      <td>[', #, Academic, Ch, atter, :, de, pt, ., ut, ...</td>\n",
       "    </tr>\n",
       "    <tr>\n",
       "      <th>117266</th>\n",
       "      <td>RT @GoKeyNetwork: It's happening...\\n\\n#Cardan...</td>\n",
       "      <td>825920479055671296</td>\n",
       "      <td>825920479055671296</td>\n",
       "      <td>0</td>\n",
       "      <td>[RT, @, Go, Key, Network, :, It, ', s, happeni...</td>\n",
       "      <td>[RT, @, Go, Key, Network, :, ', happening, ......</td>\n",
       "    </tr>\n",
       "    <tr>\n",
       "      <th>117267</th>\n",
       "      <td>holy shit look at this cast. ONE WEEK until @h...</td>\n",
       "      <td>23027237</td>\n",
       "      <td>23027237</td>\n",
       "      <td>0</td>\n",
       "      <td>[hol, y, shit, look, at, this, cast, ., ONE, W...</td>\n",
       "      <td>[hol, shit, look, cast, ., ONE, EK, @, hr, net...</td>\n",
       "    </tr>\n",
       "    <tr>\n",
       "      <th>117268</th>\n",
       "      <td>RT @NerdPokerQuotes: .@evazan: He's amazing wi...</td>\n",
       "      <td>137865227</td>\n",
       "      <td>137865227</td>\n",
       "      <td>0</td>\n",
       "      <td>[RT, @, N, er, d, Po, ker, Qu, otes, :, .@, ev...</td>\n",
       "      <td>[RT, @, N, er, Po, ker, Qu, otes, :, .@, ev, a...</td>\n",
       "    </tr>\n",
       "    <tr>\n",
       "      <th>117269</th>\n",
       "      <td>The first hurrah of summer interrupted...  @Na...</td>\n",
       "      <td>39097715</td>\n",
       "      <td>39097715</td>\n",
       "      <td>0</td>\n",
       "      <td>[The, first, hur, ra, h, of, summer, inter, ru...</td>\n",
       "      <td>[first, hur, ra, h, summer, inter, rup, ted, ....</td>\n",
       "    </tr>\n",
       "  </tbody>\n",
       "</table>\n",
       "<p>117270 rows × 6 columns</p>\n",
       "</div>"
      ],
      "text/plain": [
       "                                                     text  \\\n",
       "0                        #LVMSpoilers episode 10? Amazing   \n",
       "1       Just IMAGINE if @TheVulcanSalute chose to shar...   \n",
       "2       RT @LaurenWalshArt: The “Matt Mercer Effect” f...   \n",
       "3              Fearne you bad bitch #CriticalRoleSpoilers   \n",
       "4       @Thee_MC89 He keeps Clean sheets in all his mo...   \n",
       "...                                                   ...   \n",
       "117265  Here's my #AcademicChatter: I have some dept. ...   \n",
       "117266  RT @GoKeyNetwork: It's happening...\\n\\n#Cardan...   \n",
       "117267  holy shit look at this cast. ONE WEEK until @h...   \n",
       "117268  RT @NerdPokerQuotes: .@evazan: He's amazing wi...   \n",
       "117269  The first hurrah of summer interrupted...  @Na...   \n",
       "\n",
       "                  author_id                   id  label  \\\n",
       "0       1304855289208819713  1304855289208819713      0   \n",
       "1       1304855289208819713  1304855289208819713      0   \n",
       "2       1304855289208819713  1304855289208819713      0   \n",
       "3       1304855289208819713  1304855289208819713      0   \n",
       "4        999238148075991040   999238148075991040      0   \n",
       "...                     ...                  ...    ...   \n",
       "117265             16298298             16298298      0   \n",
       "117266   825920479055671296   825920479055671296      0   \n",
       "117267             23027237             23027237      0   \n",
       "117268            137865227            137865227      0   \n",
       "117269             39097715             39097715      0   \n",
       "\n",
       "                                               BPE_TOKENS  \\\n",
       "0       [#, LV, MS, po, il, ers, episode, 10, ?, Amazing]   \n",
       "1       [Just, IM, AG, INE, if, @, The, V, ul, can, Sa...   \n",
       "2       [RT, @, La, uren, Wal, sh, Art, :, The, “, Mat...   \n",
       "3       [F, ear, ne, you, bad, bit, ch, #, Crit, ical,...   \n",
       "4       [@, The, e_, MC, 89, He, keeps, Cle, an, she, ...   \n",
       "...                                                   ...   \n",
       "117265  [Here, ', s, my, #, Academic, Ch, atter, :, I,...   \n",
       "117266  [RT, @, Go, Key, Network, :, It, ', s, happeni...   \n",
       "117267  [hol, y, shit, look, at, this, cast, ., ONE, W...   \n",
       "117268  [RT, @, N, er, d, Po, ker, Qu, otes, :, .@, ev...   \n",
       "117269  [The, first, hur, ra, h, of, summer, inter, ru...   \n",
       "\n",
       "                                                 FILTERED  \n",
       "0       [#, LV, MS, po, il, ers, episode, 10, ?, Amazing]  \n",
       "1       [IM, AG, INE, @, V, ul, Sal, ute, cho, se, sha...  \n",
       "2       [RT, @, La, uren, Wal, sh, Art, :, “, Matt, Me...  \n",
       "3       [F, ear, ne, bad, bit, ch, #, Crit, ical, Ro, ...  \n",
       "4       [@, e_, MC, 89, keeps, Cle, ets, mo, vies, bal...  \n",
       "...                                                   ...  \n",
       "117265  [', #, Academic, Ch, atter, :, de, pt, ., ut, ...  \n",
       "117266  [RT, @, Go, Key, Network, :, ', happening, ......  \n",
       "117267  [hol, shit, look, cast, ., ONE, EK, @, hr, net...  \n",
       "117268  [RT, @, N, er, Po, ker, Qu, otes, :, .@, ev, a...  \n",
       "117269  [first, hur, ra, h, summer, inter, rup, ted, ....  \n",
       "\n",
       "[117270 rows x 6 columns]"
      ]
     },
     "execution_count": 8,
     "metadata": {},
     "output_type": "execute_result"
    }
   ],
   "source": [
    "# Usuwanie stopwords\n",
    "stop_words = set(stopwords.words('english'))\n",
    "df['FILTERED'] = df['BPE_TOKENS'].apply(lambda x: [word for word in x if word.lower() not in stop_words])\n",
    "\n",
    "df"
   ]
  },
  {
   "cell_type": "code",
   "execution_count": 9,
   "metadata": {},
   "outputs": [
    {
     "name": "stdout",
     "output_type": "stream",
     "text": [
      "                                                text  \\\n",
      "0                   #LVMSpoilers episode 10? Amazing   \n",
      "1  Just IMAGINE if @TheVulcanSalute chose to shar...   \n",
      "2  RT @LaurenWalshArt: The “Matt Mercer Effect” f...   \n",
      "3         Fearne you bad bitch #CriticalRoleSpoilers   \n",
      "4  @Thee_MC89 He keeps Clean sheets in all his mo...   \n",
      "5  @Teambridge263 @Tommy_Le_Roi Someone translate...   \n",
      "6                                 @niza116 Respect 💯   \n",
      "7  Just posted a photo @ Zoom Online https://t.co...   \n",
      "8  Just posted a photo @ Featherstone Center for ...   \n",
      "9  RT @HotspursTurkey: GOL SONNY🔥 #COYS https://t...   \n",
      "\n",
      "                                            FILTERED  \n",
      "0  [#, LV, MS, po, il, ers, episode, 10, ?, Amazing]  \n",
      "1  [IM, AG, INE, @, V, ul, Sal, ute, cho, se, sha...  \n",
      "2  [RT, @, La, uren, Wal, sh, Art, :, “, Matt, Me...  \n",
      "3  [F, ear, ne, bad, bit, ch, #, Crit, ical, Ro, ...  \n",
      "4  [@, e_, MC, 89, keeps, Cle, ets, mo, vies, bal...  \n",
      "5  [@, Team, bridge, 26, 3, @, Tom, _, Le, _, Ro,...  \n",
      "6                    [@, n, iz, 11, 6, Res, pect, 💯]  \n",
      "7  [posted, photo, @, Zoom, Online, https, ://, ....  \n",
      "8  [posted, photo, @, Fe, ather, stone, Center, A...  \n",
      "9  [RT, @, Hot, sp, urs, Tur, key, :, GO, L, NY, ...  \n"
     ]
    }
   ],
   "source": [
    "print(df[['text', 'FILTERED']].head(10))"
   ]
  },
  {
   "cell_type": "code",
   "execution_count": 10,
   "metadata": {},
   "outputs": [],
   "source": [
    "# Wektoryzacja \n",
    "vectorizer = TfidfVectorizer()\n",
    "df['FILTERED_TEXT'] = df['FILTERED'].apply(lambda x: ' '.join(x))\n",
    "X = vectorizer.fit_transform(df['FILTERED_TEXT'])\n",
    "Y = df['label']"
   ]
  },
  {
   "cell_type": "markdown",
   "metadata": {},
   "source": [
    "# Budowa modelu"
   ]
  },
  {
   "cell_type": "code",
   "execution_count": 11,
   "metadata": {},
   "outputs": [
    {
     "name": "stdout",
     "output_type": "stream",
     "text": [
      "Accuracy: 0.5958471902447344\n",
      "Precision: 0.5960625070702251\n",
      "Recall: 0.5958471902447344\n",
      "F1 Score: 0.5957735613052197\n",
      "Classification Report:               precision    recall  f1-score   support\n",
      "\n",
      "           0       0.59      0.61      0.60     11645\n",
      "           1       0.60      0.58      0.59     11809\n",
      "\n",
      "    accuracy                           0.60     23454\n",
      "   macro avg       0.60      0.60      0.60     23454\n",
      "weighted avg       0.60      0.60      0.60     23454\n",
      "\n",
      "Confusion Matrix: \n",
      " [[7110 4535]\n",
      " [4944 6865]]\n"
     ]
    }
   ],
   "source": [
    "from sklearn.model_selection import train_test_split\n",
    "from sklearn.naive_bayes import MultinomialNB\n",
    "from sklearn.metrics import accuracy_score, classification_report, confusion_matrix, precision_score, recall_score, f1_score\n",
    "\n",
    "# Podział danych na zbiór treningowy i testowy\n",
    "X_train, X_test, y_train, y_test = train_test_split(X, Y, test_size=0.2, random_state=47)\n",
    "\n",
    "# Uczenie modelu\n",
    "nb_classifier = MultinomialNB()\n",
    "nb_classifier.fit(X_train, y_train)\n",
    "\n",
    "# Predykcja\n",
    "y_pred = nb_classifier.predict(X_test)\n",
    "\n",
    "# Ocena modelu\n",
    "print('Accuracy:', accuracy_score(y_test, y_pred))\n",
    "print('Precision:', precision_score(y_test, y_pred, average='weighted'))\n",
    "print('Recall:', recall_score(y_test, y_pred, average='weighted'))\n",
    "print('F1 Score:', f1_score(y_test, y_pred, average='weighted'))\n",
    "print('Classification Report:', classification_report(y_test, y_pred))\n",
    "print('Confusion Matrix: \\n', confusion_matrix(y_test, y_pred))\n",
    "\n",
    "with open('nb_classifier1.pkl', 'wb') as f:\n",
    "\tpickle.dump(nb_classifier, f)"
   ]
  },
  {
   "cell_type": "code",
   "execution_count": 12,
   "metadata": {},
   "outputs": [
    {
     "name": "stderr",
     "output_type": "stream",
     "text": [
      "c:\\Users\\samue\\AppData\\Local\\Programs\\Python\\Python312\\Lib\\site-packages\\sklearn\\svm\\_classes.py:31: FutureWarning: The default value of `dual` will change from `True` to `'auto'` in 1.5. Set the value of `dual` explicitly to suppress the warning.\n",
      "  warnings.warn(\n"
     ]
    },
    {
     "name": "stdout",
     "output_type": "stream",
     "text": [
      "Accuracy: 0.5958045535942696\n",
      "Precision: 0.5958935073460159\n",
      "Recall: 0.5958045535942696\n",
      "F1 Score: 0.5957946780807973\n",
      "Classification Report:\n",
      "               precision    recall  f1-score   support\n",
      "\n",
      "           0       0.59      0.60      0.60     11645\n",
      "           1       0.60      0.59      0.59     11809\n",
      "\n",
      "    accuracy                           0.60     23454\n",
      "   macro avg       0.60      0.60      0.60     23454\n",
      "weighted avg       0.60      0.60      0.60     23454\n",
      "\n",
      "Confusion Matrix:\n",
      " [[7017 4628]\n",
      " [4852 6957]]\n"
     ]
    }
   ],
   "source": [
    "from sklearn.svm import LinearSVC\n",
    "# Uczenie modelu\n",
    "svm_classifier = LinearSVC(random_state=2410, max_iter=10000)\n",
    "svm_classifier.fit(X_train, y_train)\n",
    "\n",
    "# Predykcja\n",
    "y_pred = svm_classifier.predict(X_test)\n",
    "\n",
    "# Ocena modelu\n",
    "print('Accuracy:', accuracy_score(y_test, y_pred))\n",
    "print('Precision:', precision_score(y_test, y_pred, average='weighted'))\n",
    "print('Recall:', recall_score(y_test, y_pred, average='weighted'))\n",
    "print('F1 Score:', f1_score(y_test, y_pred, average='weighted'))\n",
    "print('Classification Report:\\n', classification_report(y_test, y_pred))\n",
    "print('Confusion Matrix:\\n', confusion_matrix(y_test, y_pred))\n",
    "\n",
    "with open('svm_classifier1.pkl', 'wb') as f:\n",
    "\tpickle.dump(svm_classifier, f)\n"
   ]
  },
  {
   "cell_type": "code",
   "execution_count": 14,
   "metadata": {},
   "outputs": [
    {
     "name": "stdout",
     "output_type": "stream",
     "text": [
      "Accuracy: 0.612432847275518\n",
      "Precision: 0.6127489961826476\n",
      "Recall: 0.612432847275518\n",
      "F1 Score: 0.6123168040181157\n",
      "Classification Report:               precision    recall  f1-score   support\n",
      "\n",
      "           0       0.61      0.63      0.62     11645\n",
      "           1       0.62      0.59      0.61     11809\n",
      "\n",
      "    accuracy                           0.61     23454\n",
      "   macro avg       0.61      0.61      0.61     23454\n",
      "weighted avg       0.61      0.61      0.61     23454\n",
      "\n",
      "Confusion Matrix: \n",
      " [[7348 4297]\n",
      " [4793 7016]]\n"
     ]
    }
   ],
   "source": [
    "from sklearn.ensemble import RandomForestClassifier\n",
    "\n",
    "# Uczenie modelu\n",
    "rf_classifier = RandomForestClassifier(n_estimators= 200, max_depth=100, max_features=\"sqrt\", n_jobs=1, random_state=7)\n",
    "rf_classifier.fit(X_train, y_train)\n",
    "\n",
    "# Predykcja\n",
    "y_pred = rf_classifier.predict(X_test)\n",
    "\n",
    "# Ocena modelu\n",
    "print('Accuracy:', accuracy_score(y_test, y_pred))\n",
    "print('Precision:', precision_score(y_test, y_pred, average='weighted'))\n",
    "print('Recall:', recall_score(y_test, y_pred, average='weighted'))\n",
    "print('F1 Score:', f1_score(y_test, y_pred, average='weighted'))\n",
    "print('Classification Report:', classification_report(y_test, y_pred))\n",
    "print('Confusion Matrix: \\n', confusion_matrix(y_test, y_pred))\n",
    "\n",
    "with open('rf_classifier1.pkl', 'wb') as f:\n",
    "\tpickle.dump(rf_classifier, f)"
   ]
  },
  {
   "cell_type": "markdown",
   "metadata": {},
   "source": [
    "# Zapisanie modelu"
   ]
  },
  {
   "cell_type": "code",
   "execution_count": 15,
   "metadata": {},
   "outputs": [],
   "source": [
    "from pickle import dump, load\n",
    "\n",
    "classifiers = {\n",
    "    'nb_classifier.pkl': nb_classifier,\n",
    "    'svm_classifier.pkl': svm_classifier,\n",
    "    'rf_classifier.pkl': rf_classifier,\n",
    "    'vectorizer.pkl': vectorizer,\n",
    "}\n",
    "\n",
    "for filename, classifier in classifiers.items():\n",
    "    with open(filename, 'wb') as f:\n",
    "        dump(classifier, f, protocol=5)\n",
    "\n",
    "loaded_classifiers = {}\n",
    "for filename in classifiers.keys():\n",
    "    with open(filename, 'rb') as f:\n",
    "        loaded_classifiers[filename] = load(f)"
   ]
  }
 ],
 "metadata": {
  "kernelspec": {
   "display_name": "Python 3",
   "language": "python",
   "name": "python3"
  },
  "language_info": {
   "codemirror_mode": {
    "name": "ipython",
    "version": 3
   },
   "file_extension": ".py",
   "mimetype": "text/x-python",
   "name": "python",
   "nbconvert_exporter": "python",
   "pygments_lexer": "ipython3",
   "version": "3.12.2"
  }
 },
 "nbformat": 4,
 "nbformat_minor": 2
}
